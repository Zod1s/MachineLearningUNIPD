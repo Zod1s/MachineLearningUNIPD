{
 "cells": [
  {
   "cell_type": "markdown",
   "id": "89f6f0b4",
   "metadata": {},
   "source": [
    "# Problema 1: Classificazione (11 punti)\n",
    "\n",
    "In questa prima parte del compito si richiede l'implementazione di una rete neurale singolo strato (*perceptron*) e valutare la sua efficacia su un problema di classificazione con due classi, C1 e C2, in cui ogni oggetto è rappresentato da due caratteristiche (*feature*), X1 e X2."
   ]
  },
  {
   "cell_type": "markdown",
   "id": "6546eee3",
   "metadata": {},
   "source": [
    "## Esercizio 1.1 (2 punti)\n",
    "\n",
    "I requisiti per il dataset sono i seguenti:\n",
    "\n",
    "+ il numero N di punti del dataset è pari a 250 per classe\n",
    "+ la distribuzione dei valori di X1 per le due classi è la seguente:\n",
    "    1. per classe 1, una distribuzione normale con media 0.5 e deviazione standard 1.5\n",
    "    2. per classe 2, una distribuzione normale con media 5.4 e deviazione standard 0.5\n",
    "+ la distribuzione dei valori di X2 per le due classi è la seguente:\n",
    "    1. per classe 1, una distribuzione Poisson con lambda 1.5\n",
    "    2. per classe 2, una distribuzione esponenziale con parametro *scale* uguale a 2\n",
    "+ per la classe 1, viene utilizzata l'etichetta +1, per la classe 2 l'etichetta -1.\n",
    "+ prima di generare i dati è fondamentale impostare il random seed che sarà uguale alle ultime tre cifre della vostra matricola (es. se la matricola è 200123, il seed sarà 123)"
   ]
  },
  {
   "cell_type": "code",
   "execution_count": 1,
   "id": "614f77fc",
   "metadata": {},
   "outputs": [],
   "source": [
    "# scrivete la vostra risposta qui\n",
    "\n",
    "import numpy as np\n",
    "import matplotlib.pyplot as plt\n",
    "\n",
    "np.random.seed(263) # setting the seed\n",
    "\n",
    "# number of points per class\n",
    "N = 250\n",
    "\n",
    "# features arrays\n",
    "X1_1 = np.random.normal(loc=0.5, scale=1.5, size=N)\n",
    "X1_2 = np.random.normal(loc=5.4, scale=0.5, size=N)\n",
    "\n",
    "X2_1 = np.random.poisson(lam=1.5, size=N)\n",
    "X2_2 = np.random.exponential(scale=2, size=N)\n",
    "\n",
    "# label arrays\n",
    "y1 = np.ones(N)\n",
    "y2 = -np.ones(N)\n"
   ]
  },
  {
   "cell_type": "markdown",
   "id": "749ecaf4",
   "metadata": {},
   "source": [
    "## Esercizio 1.2 (1 punto)\n",
    "\n",
    "Disegnare uno scatter plot mostrando sul piano bidimensionale la distribuzione dei punti delle due classi"
   ]
  },
  {
   "cell_type": "code",
   "execution_count": 2,
   "id": "28c054b7",
   "metadata": {},
   "outputs": [
    {
     "data": {
      "text/plain": [
       "<matplotlib.collections.PathCollection at 0x7f936ce94ee0>"
      ]
     },
     "execution_count": 2,
     "metadata": {},
     "output_type": "execute_result"
    },
    {
     "data": {
      "image/png": "[encoded data removed]",
      "text/plain": [
       "<Figure size 432x288 with 1 Axes>"
      ]
     },
     "metadata": {
      "needs_background": "light"
     },
     "output_type": "display_data"
    }
   ],
   "source": [
    "# scrivete la vostra risposta qui\n",
    "\n",
    "plt.scatter(X1_1, X2_1)\n",
    "plt.scatter(X1_2, X2_2)\n"
   ]
  },
  {
   "cell_type": "markdown",
   "id": "7b30ef65",
   "metadata": {},
   "source": [
    "## Esercizio 1.3 (1 punto)\n",
    "\n",
    "Creare la matrice dei punti X (ogni riga è un oggetto, includere il termine di bias X0) e il vettore di output y.\n"
   ]
  },
  {
   "cell_type": "code",
   "execution_count": 3,
   "id": "d1343e22",
   "metadata": {},
   "outputs": [],
   "source": [
    "# scrivete la vostra risposta qui\n",
    "X0 = np.ones(2 * N)\n",
    "X1 = np.concatenate((X1_1, X1_2))\n",
    "X2 = np.concatenate((X2_1, X2_2))\n",
    "X = np.stack((X0, X1, X2), axis=1)\n",
    "\n",
    "y = np.concatenate((y1, y2))\n"
   ]
  },
  {
   "cell_type": "markdown",
   "id": "f6253452",
   "metadata": {},
   "source": [
    "## Esercizio 1.4 (5 punti)\n",
    "\n",
    "Addestrare un *perceptron* con un **approccio mini-batch stochastic gradient descent** con i seguenti requisiti:\n",
    "+ inizializzare il vettore dei parametri w con una distribuzione uniforme su un range [-2. 2].\n",
    "+ Utilizzare un parametro eta pari a 1e-4\n",
    "+ Usare un batch size di 20 oggetti\n",
    "+ Massimo numero di epoche pari a 200\n",
    "+ Salvare in un vettore [errors_epoch] il numero di oggetti classificati erroneamente per ogni epoca."
   ]
  },
  {
   "cell_type": "code",
   "execution_count": 4,
   "id": "4a550f91",
   "metadata": {},
   "outputs": [
    {
     "name": "stdout",
     "output_type": "stream",
     "text": [
      "numero di epoche = 200\n",
      "numero di errori = 15.0\n"
     ]
    }
   ],
   "source": [
    "# scrivete la vostra risposta qui\n",
    "\n",
    "# weights vector\n",
    "w = np.random.uniform(low=-2, high=2, size=3)\n",
    "\n",
    "# training hyperparameters\n",
    "eta = 1e-4\n",
    "batch_size = 20\n",
    "max_epochs = 200\n",
    "errors_epoch = np.zeros(max_epochs + 1)\n",
    "\n",
    "for epoch in range(max_epochs):\n",
    "    errors_epoch[epoch] = sum(y * np.sign(np.dot(X, w)) < 0)\n",
    "\n",
    "    rand_perm = np.random.permutation(y.shape[0])\n",
    "    X = X[rand_perm, :]\n",
    "    y = y[rand_perm]\n",
    "\n",
    "    for j in range(0, y.shape[0], batch_size):\n",
    "        x_batch = X[j:j + batch_size, :]\n",
    "        y_batch = y[j:j + batch_size]\n",
    "\n",
    "        error = y_batch - np.dot(x_batch, w)\n",
    "        w += eta * np.dot(np.transpose(x_batch), error)\n",
    "\n",
    "errors_epoch[-1] = sum(y * np.sign(np.dot(X, w)) < 0)\n",
    "print(f\"numero di epoche = {epoch + 1}\")\n",
    "print(f\"numero di errori = {errors_epoch[-1]}\")\n"
   ]
  },
  {
   "cell_type": "markdown",
   "id": "ffed6b4e",
   "metadata": {},
   "source": [
    "## Esercizio 1.5 (punti 2)\n",
    "\n",
    "Fare un grafico con due plot: uno che mostra i punti del dataset e la retta di separazione trovata, l'altro che mostra l'andamento del numero di errori fatti per ogni epoca."
   ]
  },
  {
   "cell_type": "code",
   "execution_count": 5,
   "id": "4f6cd0a0",
   "metadata": {},
   "outputs": [
    {
     "data": {
      "text/plain": [
       "[<matplotlib.lines.Line2D at 0x7f936ad74f70>]"
      ]
     },
     "execution_count": 5,
     "metadata": {},
     "output_type": "execute_result"
    },
    {
     "data": {
      "image/png": "[encoded data removed]",
      "text/plain": [
       "<Figure size 1080x720 with 2 Axes>"
      ]
     },
     "metadata": {
      "needs_background": "light"
     },
     "output_type": "display_data"
    }
   ],
   "source": [
    "# scrivete la vostra risposta qui\n",
    "\n",
    "fig, axs = plt.subplots(2, 1, figsize=(15, 10), sharey=False)\n",
    "axs[0].scatter(X[:, 1], X[:, 2], c=y)\n",
    "axs[0].plot([np.min(X[:, 1]),\n",
    "             np.max(X[:, 1])],\n",
    "            [np.min(X[:, 1]) * (-w[1]/w[2]) - w[0]/w[2],\n",
    "             np.max(X[:, 1]) * (-w[1]/w[2]) - w[0]/w[2]],\n",
    "            c=\"red\")\n",
    "\n",
    "axs[1].plot(range(len(errors_epoch)), errors_epoch)\n"
   ]
  },
  {
   "cell_type": "markdown",
   "id": "659152b6",
   "metadata": {},
   "source": [
    "# Problema 2: Regressione (7 punti)\n",
    "\n",
    "In questa seconda parte del compito, viene richiesta la costruzione di una soluzione in forma chiusa di un problema di regressione.\n"
   ]
  },
  {
   "cell_type": "markdown",
   "id": "d501e274",
   "metadata": {},
   "source": [
    "## Esercizio 2.1 (1 punto)\n",
    "\n",
    "I requisiti per il dataset sono i seguenti:\n",
    "+ la funzione target *y_reg* è una funzione cubica aX^3 + bX^2 + cX + d con valori values a = 1.5, b = -1, c = 2, d = 3. \n",
    "+ Inoltre, all'output della funzione target viene aggiunto un rumore gaussiano con media zero e deviazione standard 1.7.\n",
    "+ La funzione target viene campionata utilizzando la coordinata X1 del dataset precedentemente creato (Problema 1)"
   ]
  },
  {
   "cell_type": "code",
   "execution_count": 6,
   "id": "69197a9a",
   "metadata": {},
   "outputs": [],
   "source": [
    "# scrivete la vostra risposta qui\n",
    "\n",
    "a = 1.5\n",
    "b = -1\n",
    "c = 2\n",
    "d = 3\n",
    "\n",
    "y_reg = a * X1**3 + b * X1**2 + c * X1 + d + np.random.normal(loc=0.0, scale=1.7, size=2 * N)\n"
   ]
  },
  {
   "cell_type": "markdown",
   "id": "58911434",
   "metadata": {},
   "source": [
    "## Esercizio 2.2 (1 punto)\n",
    "\n",
    "L'ipotesi *H(x)* è una funzione quadratica. Generare il dataset *X_reg* secondo questa ipotesi (includendo il termine di bias X0)\n"
   ]
  },
  {
   "cell_type": "code",
   "execution_count": 7,
   "id": "ab31343f",
   "metadata": {},
   "outputs": [],
   "source": [
    "# scrivete la vostra risposta qui\n",
    "\n",
    "X_reg = np.stack((X0, X1, X1**2), axis=1)\n"
   ]
  },
  {
   "cell_type": "markdown",
   "id": "a385e261",
   "metadata": {},
   "source": [
    "## Esercizio 2.3 (4 punti)\n",
    "\n",
    "Trovare il vettore di parametri ottimo *w_reg* per l'ipotesi *H(x)* utilizzando la soluzione in forma chiusa."
   ]
  },
  {
   "cell_type": "code",
   "execution_count": 8,
   "id": "cdead08f",
   "metadata": {},
   "outputs": [],
   "source": [
    "# scrivete la vostra risposta qui\n",
    "\n",
    "w_reg = np.dot(np.linalg.inv(np.dot(np.transpose(X_reg), X_reg)), np.dot(np.transpose(X_reg), y_reg))\n"
   ]
  },
  {
   "cell_type": "markdown",
   "id": "74bdf9b6",
   "metadata": {},
   "source": [
    "## Esercizio 2.4 (1 punto)\n",
    "\n",
    "Fare il grafico dei punti del dataset sovrapposto alla funzione di regressione trovata."
   ]
  },
  {
   "cell_type": "code",
   "execution_count": 9,
   "id": "a2173f6b",
   "metadata": {},
   "outputs": [
    {
     "data": {
      "text/plain": [
       "[<matplotlib.lines.Line2D at 0x7f936acb30a0>]"
      ]
     },
     "execution_count": 9,
     "metadata": {},
     "output_type": "execute_result"
    },
    {
     "data": {
      "image/png": "[encoded data removed]",
      "text/plain": [
       "<Figure size 432x288 with 1 Axes>"
      ]
     },
     "metadata": {
      "needs_background": "light"
     },
     "output_type": "display_data"
    }
   ],
   "source": [
    "# scrivete la vostra risposta qui\n",
    "\n",
    "x_grid = np.linspace(-4, 6, 1000)\n",
    "y_grid = w_reg[0] + w_reg[1] * x_grid + w_reg[2] * x_grid**2\n",
    "\n",
    "plt.scatter(X1, y_reg)\n",
    "plt.plot(x_grid, y_grid, c=\"red\")"
   ]
  }
 ],
 "metadata": {
  "kernelspec": {
   "display_name": "Python 3 (ipykernel)",
   "language": "python",
   "name": "python3"
  },
  "language_info": {
   "codemirror_mode": {
    "name": "ipython",
    "version": 3
   },
   "file_extension": ".py",
   "mimetype": "text/x-python",
   "name": "python",
   "nbconvert_exporter": "python",
   "pygments_lexer": "ipython3",
   "version": "3.8.10"
  }
 },
 "nbformat": 4,
 "nbformat_minor": 5
}
