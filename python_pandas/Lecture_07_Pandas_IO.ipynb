{
    "cells": [
        {
            "cell_type": "markdown",
            "metadata": {
                "slideshow": {
                    "slide_type": "slide"
                }
            },
            "source": [
                "# Fundamentals of Information Systems\n",
                "\n",
                "## Python Programming (for Data Science)\n",
                "\n",
                "### Master's Degree in Data Science\n",
                "\n",
                "#### Giorgio Maria Di Nunzio\n",
                "#### (Courtesy of Gabriele Tolomei FIS 2018-2019)\n",
                "<a href=\"mailto:giorgiomaria.dinunzio@unipd.it\">giorgiomaria.dinunzio@unipd.it</a><br/>\n",
                "University of Padua, Italy<br/>\n",
                "2021/2022<br/>"
            ]
        },
        {
            "cell_type": "markdown",
            "metadata": {
                "slideshow": {
                    "slide_type": "slide"
                }
            },
            "source": [
                "# Lecture 8: I/O with <code>pandas</code>"
            ]
        },
        {
            "cell_type": "markdown",
            "metadata": {
                "slideshow": {
                    "slide_type": "slide"
                }
            },
            "source": [
                "## Overview\n",
                "\n",
                "-  Accessing data is a necessary first step for any data scientist. \n",
                "\n",
                "-  We are going to see how to perform data input/output operations using <code>**pandas**</code>.\n",
                "\n",
                "-  I/O might refer to: reading from/writing to text files (or other more efficient on-disk formats), accessing databases, interacting with network sources like web APIs, etc.\n",
                "\n",
                "-  We will be exploring each of those separately (although we will be focusing more on text files)."
            ]
        },
        {
            "cell_type": "markdown",
            "metadata": {
                "slideshow": {
                    "slide_type": "slide"
                }
            },
            "source": [
                "## Loading Data into <code>DataFrame</code> Objects\n",
                "\n",
                "-  There are many functions that allow <code>**pandas**</code> to read tabular data as a <code>**DataFrame**</code> object. \n",
                "\n",
                "-  Among those, <code>**read_csv**</code> and <code>**read_table**</code> are by far the ones you'll likely use the most."
            ]
        },
        {
            "cell_type": "markdown",
            "metadata": {
                "slideshow": {
                    "slide_type": "slide"
                }
            },
            "source": [
                "## Optional Arguments to <code>read_*</code> Functions\n",
                "\n",
                "-  **Indexing:** can treat one or more columns as the returned <code>**DataFrame**</code>, and whether to get column names from the file, the user, or not at all.\n",
                "\n",
                "-  **Type inference and data conversion:** this includes the user-defined value conversions and custom list of missing value markers.\n",
                "\n",
                "-  **Datetime parsing:** includes combining date and time information spread over multiple columns into a single column in the result.\n",
                "\n",
                "-  **Iterating:** support for iterating over chunks of very large files.\n",
                "\n",
                "-  **Unclean data issues:** skipping rows or a footer, comments, or other minor things like numeric data with thousands separated by commas."
            ]
        },
        {
            "cell_type": "markdown",
            "metadata": {
                "slideshow": {
                    "slide_type": "slide"
                }
            },
            "source": [
                "## Too Many Optional Arguments\n",
                "\n",
                "-  Because of how messy data in the real world can be, some of the data loading functions (especially <code>**read_csv**</code>) have grown very complex over time. \n",
                "\n",
                "-  To avoid feeling ovewhelmed by the huge number of possible options, please refer to the [online pandas documentation](https://pandas.pydata.org/pandas-docs/stable/generated/pandas.read_csv.html).\n",
                "\n",
                "-  Type inference is one of the more important features of these functions; that means you don't necessarily have to specify which columns are numeric, integer, boolean, or string."
            ]
        },
        {
            "cell_type": "markdown",
            "metadata": {
                "slideshow": {
                    "slide_type": "slide"
                }
            },
            "source": [
                "## <code>read_csv</code>/<code>read_table</code>\n",
                "\n",
                "-  We will explore some of the most important I/O features provided by <code>**pandas**</code> using an example.\n",
                "\n",
                "-  To this end, we use a tabular data file located on a remote server.\n",
                "\n",
                "-  To check out how such a file looks like, just click [here](https://raw.githubusercontent.com/justmarkham/DAT8/master/data/u.user).\n",
                "\n",
                "-  Of course, you can save this file on your machine and load it locally from there with <code>**pandas**</code>.\n",
                "\n",
                "-  By default, data is assumed to be **tab-separated** (<code>**'\\t'**</code>)."
            ]
        },
        {
            "cell_type": "code",
            "execution_count": 1,
            "metadata": {
                "slideshow": {
                    "slide_type": "slide"
                }
            },
            "outputs": [],
            "source": [
                "import pandas as pd\n",
                "import numpy as np"
            ]
        },
        {
            "cell_type": "code",
            "execution_count": 2,
            "metadata": {
                "slideshow": {
                    "slide_type": "slide"
                }
            },
            "outputs": [
                {
                    "name": "stdout",
                    "output_type": "stream",
                    "text": [
                        "         age gender     occupation zip_code\n",
                        "user_id                                    \n",
                        "934       61      M       engineer    22902\n",
                        "935       42      M         doctor    66221\n",
                        "936       24      M          other    32789\n",
                        "937       48      M       educator    98072\n",
                        "938       38      F     technician    55038\n",
                        "939       26      F        student    33319\n",
                        "940       32      M  administrator    02215\n",
                        "941       20      M        student    97229\n",
                        "942       48      F      librarian    78209\n",
                        "943       22      M        student    77841\n"
                    ]
                }
            ],
            "source": [
                "\"\"\"\n",
                "Let's start with a real example on how to load a tabular data file using pandas.\n",
                "\"\"\"\n",
                "# Locate the dataset (in this case, we use a remote file located on an external server)\n",
                "# Alternatively, you can save this file on your machine and load it locally from there.\n",
                "\n",
                "url = 'https://raw.githubusercontent.com/justmarkham/DAT8/master/data/u.user'\n",
                "\n",
                "# The first line of the file represents the header, and each field\n",
                "# is separated by a pipe\n",
                "\"\"\"\n",
                "We specify the url where the data is located, the character used to separate fields ('|')\n",
                "and the name of the column to use as row label (otherwise, RangeInteger will be used)\n",
                "\"\"\"\n",
                "users = pd.read_csv(url, sep = '|', index_col = 'user_id')\n",
                "print(users.tail(10))"
            ]
        },
        {
            "cell_type": "code",
            "execution_count": 4,
            "metadata": {
                "slideshow": {
                    "slide_type": "slide"
                }
            },
            "outputs": [
                {
                    "name": "stdout",
                    "output_type": "stream",
                    "text": [
                        "         age gender     occupation zip_code\n",
                        "user_id                                    \n",
                        "1         24      M     technician    85711\n",
                        "2         53      F          other    94043\n",
                        "3         23      M         writer    32067\n",
                        "4         24      M     technician    43537\n",
                        "5         33      F          other    15213\n",
                        "6         42      M      executive    98101\n",
                        "7         57      M  administrator    91344\n",
                        "8         36      M  administrator    05201\n",
                        "9         29      M        student    01002\n",
                        "10        53      M         lawyer    90703\n"
                    ]
                }
            ],
            "source": [
                "\"\"\"\n",
                "Suppose we have stored the file on our local machine.\n",
                "\"\"\"\n",
                "path = '../data/user_occupations.txt'\n",
                "\n",
                "# read users\n",
                "users = pd.read_csv(path, sep='|', index_col='user_id')\n",
                "print(users.head(10))"
            ]
        },
        {
            "cell_type": "code",
            "execution_count": 6,
            "metadata": {
                "slideshow": {
                    "slide_type": "slide"
                }
            },
            "outputs": [
                {
                    "name": "stdout",
                    "output_type": "stream",
                    "text": [
                        "    1  24  M     technician  85711\n",
                        "0   2  53  F          other  94043\n",
                        "1   3  23  M         writer  32067\n",
                        "2   4  24  M     technician  43537\n",
                        "3   5  33  F          other  15213\n",
                        "4   6  42  M      executive  98101\n",
                        "5   7  57  M  administrator  91344\n",
                        "6   8  36  M  administrator  05201\n",
                        "7   9  29  M        student  01002\n",
                        "8  10  53  M         lawyer  90703\n",
                        "9  11  39  F          other  30329\n"
                    ]
                }
            ],
            "source": [
                "\"\"\"\n",
                "Suppose the file does not contain any header line. We can still load the file\n",
                "telling pandas there is no header AND we can also provide pandas with a list \n",
                "of names corresponding to the header we want to use.\n",
                "\"\"\"\n",
                "# This is the path to the same file yet without the header line\n",
                "path_no_header = '../data/user_occupations_no_header.txt'\n",
                "\n",
                "# If the file does not contain the header as the first line\n",
                "users = pd.read_csv(path_no_header, sep = '|')\n",
                "\n",
                "# Row and column indices fall back to the default RangeIndex (i.e., integers)\n",
                "print(users.head(10))"
            ]
        },
        {
            "cell_type": "code",
            "execution_count": 7,
            "metadata": {
                "slideshow": {
                    "slide_type": "slide"
                }
            },
            "outputs": [
                {
                    "name": "stdout",
                    "output_type": "stream",
                    "text": [
                        "         age gender     occupation zip_code\n",
                        "user_id                                    \n",
                        "1         24      M     technician    85711\n",
                        "2         53      F          other    94043\n",
                        "3         23      M         writer    32067\n",
                        "4         24      M     technician    43537\n",
                        "5         33      F          other    15213\n",
                        "6         42      M      executive    98101\n",
                        "7         57      M  administrator    91344\n",
                        "8         36      M  administrator    05201\n",
                        "9         29      M        student    01002\n",
                        "10        53      M         lawyer    90703\n"
                    ]
                }
            ],
            "source": [
                "# If the file does not contain the header as the first line AND we want to\n",
                "# specify ourselves the names of the columns (and, possibly, the row index\n",
                "# as well)\n",
                "users = pd.read_csv(path_no_header,\n",
                "                    sep='|',\n",
                "                    header=None,\n",
                "                    names=[\n",
                "                        'user_id',\n",
                "                        'age',\n",
                "                        'gender',\n",
                "                        'occupation',\n",
                "                        'zip_code'],\n",
                "                    index_col='user_id'\n",
                "                    )\n",
                "\n",
                "print(users.head(10))\n"
            ]
        },
        {
            "cell_type": "code",
            "execution_count": 8,
            "metadata": {
                "slideshow": {
                    "slide_type": "slide"
                }
            },
            "outputs": [
                {
                    "name": "stdout",
                    "output_type": "stream",
                    "text": [
                        "         age gender     occupation zip_code\n",
                        "user_id                                    \n",
                        "3         23      M         writer    32067\n",
                        "4         24      M     technician    43537\n",
                        "5         33      F          other    15213\n",
                        "7         57      M  administrator    91344\n",
                        "8         36      M  administrator    05201\n",
                        "9         29      M        student    01002\n",
                        "10        53      M         lawyer    90703\n",
                        "11        39      F          other    30329\n",
                        "12        28      F          other    06405\n",
                        "13        47      M       educator    29206\n"
                    ]
                }
            ],
            "source": [
                "# Sometimes, it may be useful to skip some records of the input file.\n",
                "# Here, we skip the first, third and fourth (actual) record.\n",
                "users_skip = pd.read_csv(path_no_header, \n",
                "                         sep = '|', \n",
                "                         header = None,\n",
                "                         names=['user_id', 'age', 'gender', 'occupation', 'zip_code'],\n",
                "                         index_col = 'user_id',\n",
                "                         skiprows = [0, 1, 5])\n",
                "\n",
                "print(users_skip.head(10))"
            ]
        },
        {
            "cell_type": "markdown",
            "metadata": {
                "slideshow": {
                    "slide_type": "slide"
                }
            },
            "source": [
                "## Handling Missing Values (*NA* or *Not Available*)\n",
                "\n",
                "-  Missing data is usually either not present (i.e., empty string) or marked by some **sentinel** value. \n",
                "\n",
                "-  By default, <code>**pandas**</code> uses a set of commonly occurring sentinels, such as <code>**None**</code> and <code>**NaN**</code>.\n",
                "\n",
                "-  The <code>**na_values**</code> is used to customize sentinel values by adding to the default ones either a list or set of strings to consider missing values.\n",
                "\n",
                "-  Chech the guide about [working with missing data](https://pandas-docs.github.io/pandas-docs-travis/user_guide/missing_data.html)"
            ]
        },
        {
            "cell_type": "code",
            "execution_count": 9,
            "metadata": {
                "slideshow": {
                    "slide_type": "slide"
                }
            },
            "outputs": [
                {
                    "name": "stdout",
                    "output_type": "stream",
                    "text": [
                        "         age gender     occupation zip_code\n",
                        "user_id                                    \n",
                        "1         24      M     technician    85711\n",
                        "2         53      F          other    94043\n",
                        "3         23      M         writer    32067\n",
                        "4         24      M     technician    43537\n",
                        "5         33      F          other    15213\n",
                        "6         42      M      executive    98101\n",
                        "7         57      M  administrator    91344\n",
                        "8         36      M  administrator    05201\n",
                        "9         29      M        student    01002\n",
                        "10        53      M         lawyer    90703\n",
                        "11        39      F          other    30329\n",
                        "12        28      F          other    06405\n",
                        "13        47      M       educator    29206\n",
                        "14        45      M      scientist    55106\n",
                        "15        49      F       educator    97301\n",
                        "16        21      M  entertainment    10309\n",
                        "17        30      M     programmer    06355\n",
                        "18        35      F          other    37212\n",
                        "19        40      M      librarian    02138\n",
                        "20        42      F      homemaker    95660\n"
                    ]
                }
            ],
            "source": [
                "\"\"\"\n",
                "Suppose we want to mark as NA any entry whose value is 'N/A'.\n",
                "\"\"\"\n",
                "# Load again the data with the option for handling missing values (na_values)\n",
                "users = pd.read_csv(path,\n",
                "                    sep='|',\n",
                "                    index_col='user_id',\n",
                "                    na_values=['N/A'])\n",
                "\n",
                "# Alternatively, we can define a dictionary of sentinels, i.e., a set for\n",
                "# each column.\n",
                "sentinels = {'age': ['inf', 'N/A'], 'zip_code': ['00000']}\n",
                "\n",
                "users = pd.read_csv(path, sep='|', index_col='user_id', na_values=sentinels)\n",
                "print(users.head(20))\n"
            ]
        },
        {
            "cell_type": "markdown",
            "metadata": {
                "slideshow": {
                    "slide_type": "slide"
                }
            },
            "source": [
                "### Reading Text Files in Pieces\n",
                "\n",
                "-  When processing very large files, you may only want to read in a small piece of a file or iterate through smaller chunks of the file.\n",
                "\n",
                "-  If we want to only read out a small number of rows (avoiding reading the entire file), specify that with <code>**nrows**</code>."
            ]
        },
        {
            "cell_type": "code",
            "execution_count": 10,
            "metadata": {
                "slideshow": {
                    "slide_type": "slide"
                }
            },
            "outputs": [
                {
                    "name": "stdout",
                    "output_type": "stream",
                    "text": [
                        "Number of observations (#rows) = 100\n"
                    ]
                },
                {
                    "data": {
                        "text/html": [
                            "<div>\n",
                            "<style scoped>\n",
                            "    .dataframe tbody tr th:only-of-type {\n",
                            "        vertical-align: middle;\n",
                            "    }\n",
                            "\n",
                            "    .dataframe tbody tr th {\n",
                            "        vertical-align: top;\n",
                            "    }\n",
                            "\n",
                            "    .dataframe thead th {\n",
                            "        text-align: right;\n",
                            "    }\n",
                            "</style>\n",
                            "<table border=\"1\" class=\"dataframe\">\n",
                            "  <thead>\n",
                            "    <tr style=\"text-align: right;\">\n",
                            "      <th></th>\n",
                            "      <th>age</th>\n",
                            "      <th>gender</th>\n",
                            "      <th>occupation</th>\n",
                            "      <th>zip_code</th>\n",
                            "    </tr>\n",
                            "    <tr>\n",
                            "      <th>user_id</th>\n",
                            "      <th></th>\n",
                            "      <th></th>\n",
                            "      <th></th>\n",
                            "      <th></th>\n",
                            "    </tr>\n",
                            "  </thead>\n",
                            "  <tbody>\n",
                            "    <tr>\n",
                            "      <th>1</th>\n",
                            "      <td>24</td>\n",
                            "      <td>M</td>\n",
                            "      <td>technician</td>\n",
                            "      <td>85711</td>\n",
                            "    </tr>\n",
                            "    <tr>\n",
                            "      <th>2</th>\n",
                            "      <td>53</td>\n",
                            "      <td>F</td>\n",
                            "      <td>other</td>\n",
                            "      <td>94043</td>\n",
                            "    </tr>\n",
                            "    <tr>\n",
                            "      <th>3</th>\n",
                            "      <td>23</td>\n",
                            "      <td>M</td>\n",
                            "      <td>writer</td>\n",
                            "      <td>32067</td>\n",
                            "    </tr>\n",
                            "    <tr>\n",
                            "      <th>4</th>\n",
                            "      <td>24</td>\n",
                            "      <td>M</td>\n",
                            "      <td>technician</td>\n",
                            "      <td>43537</td>\n",
                            "    </tr>\n",
                            "    <tr>\n",
                            "      <th>5</th>\n",
                            "      <td>33</td>\n",
                            "      <td>F</td>\n",
                            "      <td>other</td>\n",
                            "      <td>15213</td>\n",
                            "    </tr>\n",
                            "    <tr>\n",
                            "      <th>6</th>\n",
                            "      <td>42</td>\n",
                            "      <td>M</td>\n",
                            "      <td>executive</td>\n",
                            "      <td>98101</td>\n",
                            "    </tr>\n",
                            "    <tr>\n",
                            "      <th>7</th>\n",
                            "      <td>57</td>\n",
                            "      <td>M</td>\n",
                            "      <td>administrator</td>\n",
                            "      <td>91344</td>\n",
                            "    </tr>\n",
                            "    <tr>\n",
                            "      <th>8</th>\n",
                            "      <td>36</td>\n",
                            "      <td>M</td>\n",
                            "      <td>administrator</td>\n",
                            "      <td>05201</td>\n",
                            "    </tr>\n",
                            "    <tr>\n",
                            "      <th>9</th>\n",
                            "      <td>29</td>\n",
                            "      <td>M</td>\n",
                            "      <td>student</td>\n",
                            "      <td>01002</td>\n",
                            "    </tr>\n",
                            "    <tr>\n",
                            "      <th>10</th>\n",
                            "      <td>53</td>\n",
                            "      <td>M</td>\n",
                            "      <td>lawyer</td>\n",
                            "      <td>90703</td>\n",
                            "    </tr>\n",
                            "  </tbody>\n",
                            "</table>\n",
                            "</div>"
                        ],
                        "text/plain": [
                            "         age gender     occupation zip_code\n",
                            "user_id                                    \n",
                            "1         24      M     technician    85711\n",
                            "2         53      F          other    94043\n",
                            "3         23      M         writer    32067\n",
                            "4         24      M     technician    43537\n",
                            "5         33      F          other    15213\n",
                            "6         42      M      executive    98101\n",
                            "7         57      M  administrator    91344\n",
                            "8         36      M  administrator    05201\n",
                            "9         29      M        student    01002\n",
                            "10        53      M         lawyer    90703"
                        ]
                    },
                    "execution_count": 10,
                    "metadata": {},
                    "output_type": "execute_result"
                }
            ],
            "source": [
                "\"\"\"\n",
                "Suppose we want to just read 100 records from our file.\n",
                "\"\"\"\n",
                "# Specify the number of rows to be read\n",
                "users_100 = pd.read_csv(path, sep='|', index_col='user_id', nrows = 100)\n",
                "\n",
                "\n",
                "\n",
                "# Verify that we actually read that many rows\n",
                "print(\"Number of observations (#rows) = {}\".format(users_100.shape[0]))\n",
                "users_100.head(10)"
            ]
        },
        {
            "cell_type": "code",
            "execution_count": 11,
            "metadata": {
                "slideshow": {
                    "slide_type": "slide"
                }
            },
            "outputs": [
                {
                    "name": "stdout",
                    "output_type": "stream",
                    "text": [
                        "         age gender  occupation zip_code\n",
                        "user_id                                 \n",
                        "1         24      M  technician    85711\n",
                        "2         53      F       other    94043\n",
                        "3         23      M      writer    32067\n",
                        "4         24      M  technician    43537\n",
                        "5         33      F       other    15213\n"
                    ]
                },
                {
                    "data": {
                        "text/html": [
                            "<div>\n",
                            "<style scoped>\n",
                            "    .dataframe tbody tr th:only-of-type {\n",
                            "        vertical-align: middle;\n",
                            "    }\n",
                            "\n",
                            "    .dataframe tbody tr th {\n",
                            "        vertical-align: top;\n",
                            "    }\n",
                            "\n",
                            "    .dataframe thead th {\n",
                            "        text-align: right;\n",
                            "    }\n",
                            "</style>\n",
                            "<table border=\"1\" class=\"dataframe\">\n",
                            "  <thead>\n",
                            "    <tr style=\"text-align: right;\">\n",
                            "      <th></th>\n",
                            "      <th>age</th>\n",
                            "      <th>gender</th>\n",
                            "      <th>occupation</th>\n",
                            "      <th>zip_code</th>\n",
                            "    </tr>\n",
                            "    <tr>\n",
                            "      <th>user_id</th>\n",
                            "      <th></th>\n",
                            "      <th></th>\n",
                            "      <th></th>\n",
                            "      <th></th>\n",
                            "    </tr>\n",
                            "  </thead>\n",
                            "  <tbody>\n",
                            "    <tr>\n",
                            "      <th>1</th>\n",
                            "      <td>24</td>\n",
                            "      <td>M</td>\n",
                            "      <td>technician</td>\n",
                            "      <td>85711</td>\n",
                            "    </tr>\n",
                            "    <tr>\n",
                            "      <th>2</th>\n",
                            "      <td>53</td>\n",
                            "      <td>F</td>\n",
                            "      <td>other</td>\n",
                            "      <td>94043</td>\n",
                            "    </tr>\n",
                            "    <tr>\n",
                            "      <th>3</th>\n",
                            "      <td>23</td>\n",
                            "      <td>M</td>\n",
                            "      <td>writer</td>\n",
                            "      <td>32067</td>\n",
                            "    </tr>\n",
                            "    <tr>\n",
                            "      <th>4</th>\n",
                            "      <td>24</td>\n",
                            "      <td>M</td>\n",
                            "      <td>technician</td>\n",
                            "      <td>43537</td>\n",
                            "    </tr>\n",
                            "    <tr>\n",
                            "      <th>5</th>\n",
                            "      <td>33</td>\n",
                            "      <td>F</td>\n",
                            "      <td>other</td>\n",
                            "      <td>15213</td>\n",
                            "    </tr>\n",
                            "  </tbody>\n",
                            "</table>\n",
                            "</div>"
                        ],
                        "text/plain": [
                            "         age gender  occupation zip_code\n",
                            "user_id                                 \n",
                            "1         24      M  technician    85711\n",
                            "2         53      F       other    94043\n",
                            "3         23      M      writer    32067\n",
                            "4         24      M  technician    43537\n",
                            "5         33      F       other    15213"
                        ]
                    },
                    "execution_count": 11,
                    "metadata": {},
                    "output_type": "execute_result"
                }
            ],
            "source": [
                "\"\"\"\n",
                "Let's reload the dataset from the remote file.\n",
                "\"\"\"\n",
                "users = pd.read_csv(path, sep='|', index_col='user_id')\n",
                "print(users.head())\n",
                "users.head()"
            ]
        },
        {
            "cell_type": "code",
            "execution_count": 12,
            "metadata": {
                "slideshow": {
                    "slide_type": "slide"
                }
            },
            "outputs": [
                {
                    "name": "stdout",
                    "output_type": "stream",
                    "text": [
                        "Number of observations (#rows) = 943\n",
                        "Number of fields (#columns) = 4\n",
                        "Column names = [age, gender, occupation, zip_code]\n",
                        "The index (i.e., the labels) is:\n",
                        "Int64Index([  1,   2,   3,   4,   5,   6,   7,   8,   9,  10,\n",
                        "            ...\n",
                        "            934, 935, 936, 937, 938, 939, 940, 941, 942, 943],\n",
                        "           dtype='int64', name='user_id', length=943)\n",
                        "The data types of each column are:\n",
                        "age            int64\n",
                        "gender        object\n",
                        "occupation    object\n",
                        "zip_code      object\n",
                        "dtype: object\n"
                    ]
                }
            ],
            "source": [
                "\"\"\"\n",
                "Let's print out some information about the data we just loaded.\n",
                "\"\"\"\n",
                "print(\"Number of observations (#rows) = {}\".format(users.shape[0]))\n",
                "\n",
                "print(\"Number of fields (#columns) = {}\".format(users.shape[1]))\n",
                "\n",
                "print(\"Column names = [{}]\".format(\", \".join([c for c in users.columns])))\n",
                "\n",
                "print(\"The index (i.e., the labels) is:\\n{}\".format(users.index))\n",
                "\n",
                "print(\"The data types of each column are:\\n{}\".format(users.dtypes))"
            ]
        },
        {
            "cell_type": "code",
            "execution_count": 13,
            "metadata": {
                "slideshow": {
                    "slide_type": "slide"
                }
            },
            "outputs": [
                {
                    "name": "stdout",
                    "output_type": "stream",
                    "text": [
                        "user_id\n",
                        "1    technician\n",
                        "2         other\n",
                        "3        writer\n",
                        "4    technician\n",
                        "5         other\n",
                        "Name: occupation, dtype: object\n",
                        "\n",
                        "user_id\n",
                        "1    technician\n",
                        "2         other\n",
                        "3        writer\n",
                        "4    technician\n",
                        "5         other\n",
                        "Name: occupation, dtype: object\n"
                    ]
                }
            ],
            "source": [
                "\"\"\"\n",
                "Suppose we want to access a single column of the DataFrame.\n",
                "\"\"\"\n",
                "# Let's return the first 5 values of the 'occupation' column.\n",
                "print(users['occupation'][:5]) # alternatively, use users['occupation'].head()\n",
                "print()\n",
                "\n",
                "# The same can be obtained using '.' notation\n",
                "print(users.occupation[:5]) # alternatively, use users.occupation.head()"
            ]
        },
        {
            "cell_type": "code",
            "execution_count": 14,
            "metadata": {
                "slideshow": {
                    "slide_type": "slide"
                }
            },
            "outputs": [
                {
                    "name": "stdout",
                    "output_type": "stream",
                    "text": [
                        "user_id\n",
                        "1    technician\n",
                        "2         other\n",
                        "3        writer\n",
                        "4    technician\n",
                        "5         other\n",
                        "Name: occupation, dtype: object\n"
                    ]
                }
            ],
            "source": [
                "\"\"\"\n",
                "Suppose we want to access a single column of the DataFrame.\n",
                "\"\"\"\n",
                "# Let's return the first 5 values of the 'occupation' column.\n",
                "print(users.loc[:5, 'occupation'])"
            ]
        },
        {
            "cell_type": "code",
            "execution_count": 15,
            "metadata": {
                "slideshow": {
                    "slide_type": "slide"
                }
            },
            "outputs": [
                {
                    "name": "stdout",
                    "output_type": "stream",
                    "text": [
                        "         age gender  occupation zip_code\n",
                        "user_id                                 \n",
                        "1         24      M  technician    85711\n",
                        "2         53      F       other    94043\n",
                        "3         23      M      writer    32067\n",
                        "4         24      M  technician    43537\n",
                        "5         33      F       other    15213\n"
                    ]
                }
            ],
            "source": [
                "\"\"\"\n",
                "Let's now create a deep copy of the loaded DataFrame 'users'.\n",
                "Remember: assigning another name to the same DataFrame is simple a view.\n",
                "For example, users_df = users makes users_df point to the same users. As such,\n",
                "any change to the content of the DataFrame while working on users_df is reflected to users.\n",
                "\"\"\"\n",
                "# Make a deep copy of users\n",
                "users_df = users.copy()\n",
                "print(users_df.head())"
            ]
        },
        {
            "cell_type": "code",
            "execution_count": 16,
            "metadata": {
                "slideshow": {
                    "slide_type": "slide"
                }
            },
            "outputs": [
                {
                    "name": "stdout",
                    "output_type": "stream",
                    "text": [
                        "0    890013\n",
                        "1    372813\n",
                        "2    822563\n",
                        "3    962708\n",
                        "4    796578\n",
                        "dtype: int64\n"
                    ]
                }
            ],
            "source": [
                "\"\"\"\n",
                "Let's add an extra column to the DataFrame and populate this column\n",
                "with some values (e.g., a series)\n",
                "\"\"\"\n",
                "# Suppose we want to add an extra column 'salary', which we randomly populate\n",
                "# with values in the range [5000, 1000000]\n",
                "np.random.seed(142) # Initialize internal state of the random number generator\n",
                "\n",
                "# set base salary\n",
                "BASE_SALARY = 5000\n",
                "\n",
                "# build values\n",
                "values = pd.Series(np.random.randint(995000, size=users_df.shape[0]) + BASE_SALARY)\n",
                "print(values.head())"
            ]
        },
        {
            "cell_type": "code",
            "execution_count": 17,
            "metadata": {
                "slideshow": {
                    "slide_type": "slide"
                }
            },
            "outputs": [
                {
                    "name": "stdout",
                    "output_type": "stream",
                    "text": [
                        "user_id\n",
                        "1    126958\n",
                        "2    676155\n",
                        "3    136932\n",
                        "4    370838\n",
                        "5    264178\n",
                        "dtype: int64\n"
                    ]
                }
            ],
            "source": [
                "\"\"\"\n",
                "Before we actually \"join\" the Series we have just created with our users DataFrame,\n",
                "we need the index of both objects to be aligned. Otherwise, there won't be any salary\n",
                "associated with the DataFrame row index 943, as the Series index is shifted by 1 w.r.t.\n",
                "the index of our DataFrame. Let's specify the index when creating our salary values.\n",
                "\"\"\"\n",
                "np.random.seed(42) # Initialize internal state of the random number generator\n",
                "BASE_SALARY = 5000\n",
                "\n",
                "# add index\n",
                "values = pd.Series(np.random.randint(995000, size=users_df.shape[0]) + BASE_SALARY,\n",
                "                  index=users_df.index)\n",
                "print(values.head())"
            ]
        },
        {
            "cell_type": "code",
            "execution_count": 18,
            "metadata": {
                "slideshow": {
                    "slide_type": "slide"
                }
            },
            "outputs": [
                {
                    "name": "stdout",
                    "output_type": "stream",
                    "text": [
                        "         age gender  occupation zip_code  salary\n",
                        "user_id                                         \n",
                        "1         24      M  technician    85711  126958\n",
                        "2         53      F       other    94043  676155\n",
                        "3         23      M      writer    32067  136932\n",
                        "4         24      M  technician    43537  370838\n",
                        "5         33      F       other    15213  264178\n"
                    ]
                }
            ],
            "source": [
                "# Create a new column on the users_df DataFrame and populate this with\n",
                "# the Series we just created\n",
                "users_df['salary'] = values\n",
                "print(users_df.head())"
            ]
        },
        {
            "cell_type": "code",
            "execution_count": 19,
            "metadata": {
                "slideshow": {
                    "slide_type": "slide"
                }
            },
            "outputs": [
                {
                    "name": "stdout",
                    "output_type": "stream",
                    "text": [
                        "Occupation and Salary of the first 5 users:\n",
                        "         occupation  salary\n",
                        "user_id                    \n",
                        "1        technician  126958\n",
                        "2             other  676155\n",
                        "3            writer  136932\n",
                        "4        technician  370838\n",
                        "5             other  264178\n"
                    ]
                }
            ],
            "source": [
                "# We can access multiple columns of this new DataFrame as follows.\n",
                "print(\"Occupation and Salary of the first 5 users:\\n{}\".\n",
                "      format(users_df[['occupation', 'salary']].head()))"
            ]
        },
        {
            "cell_type": "code",
            "execution_count": 20,
            "metadata": {
                "slideshow": {
                    "slide_type": "slide"
                }
            },
            "outputs": [
                {
                    "data": {
                        "text/plain": [
                            "array(['technician', 'other', 'writer', 'executive', 'administrator',\n",
                            "       'student', 'lawyer', 'educator', 'scientist', 'entertainment',\n",
                            "       'programmer', 'librarian', 'homemaker', 'artist', 'engineer',\n",
                            "       'marketing', 'none', 'healthcare', 'retired', 'salesman', 'doctor'],\n",
                            "      dtype=object)"
                        ]
                    },
                    "execution_count": 20,
                    "metadata": {},
                    "output_type": "execute_result"
                }
            ],
            "source": [
                "\"\"\"\n",
                "Wait! We might not want to associate a salary to each entry!\n",
                "For example, you don't want to assign a salary to any user aged less than 18\n",
                "or anyone who doesn't have a job or is a student.\n",
                "Let's see what are the set of occupations.\n",
                "\"\"\"\n",
                "users_df['occupation'].unique()"
            ]
        },
        {
            "cell_type": "code",
            "execution_count": 21,
            "metadata": {
                "slideshow": {
                    "slide_type": "slide"
                }
            },
            "outputs": [],
            "source": [
                "\"\"\"\n",
                "Create a mask to assign a salary only to those users who are at least 18 AND\n",
                "are not student nor unoccupied.\n",
                "We therefore set salary to 0 for any of the users above\n",
                "\"\"\"\n",
                "mask = (users_df.age >= 18) & ~(users_df.occupation.isin(['student', 'none']))\n",
                "# mask = (users_df.age >= 18) & (users_df.occupation != 'student') \\\n",
                "# & (users_df.occupation != 'none')\n",
                "# mask = (users_df.age >= 18) & ~(users_df.occupation == 'student') \\\n",
                "# & ~(users_df.occupation == 'none')"
            ]
        },
        {
            "cell_type": "code",
            "execution_count": 22,
            "metadata": {},
            "outputs": [],
            "source": [
                "mask = (users_df.age >= 18) & ~(users_df.occupation.isin(['student', 'none']))"
            ]
        },
        {
            "cell_type": "code",
            "execution_count": 23,
            "metadata": {},
            "outputs": [
                {
                    "data": {
                        "text/plain": [
                            "user_id\n",
                            "1       True\n",
                            "2       True\n",
                            "3       True\n",
                            "4       True\n",
                            "5       True\n",
                            "       ...  \n",
                            "939    False\n",
                            "940     True\n",
                            "941    False\n",
                            "942     True\n",
                            "943    False\n",
                            "Length: 943, dtype: bool"
                        ]
                    },
                    "execution_count": 23,
                    "metadata": {},
                    "output_type": "execute_result"
                }
            ],
            "source": [
                "mask"
            ]
        },
        {
            "cell_type": "code",
            "execution_count": 24,
            "metadata": {},
            "outputs": [
                {
                    "data": {
                        "text/plain": [
                            "array([126958, 676155, 136932, 370838, 264178, 649167, 115268, 737180,\n",
                            "            0, 142337, 526430, 959698,  92498, 904159, 917756, 180203,\n",
                            "       196335, 283167,  46090, 334365,  69820, 792201, 326879, 723315,\n",
                            "       332069, 781997, 204041, 796743, 108355,      0, 219176,      0,\n",
                            "            0, 426909, 994436,      0,      0, 922040, 505186, 161730,\n",
                            "       875910, 389681, 154503, 659811, 532035, 653143, 457366,  70725,\n",
                            "            0,  89654, 958277,      0, 596723, 324030, 333947, 560839,\n",
                            "            0, 278538, 336236, 533178, 570894, 494492, 261840, 478254,\n",
                            "       354457,      0,      0,      0, 244629, 210041, 703361, 736912,\n",
                            "            0,  73148, 782089,      0, 256995, 911606, 683843, 915790,\n",
                            "            0, 261508, 808591, 901942, 111530, 609365, 827352, 465337,\n",
                            "       729839, 810889, 464773, 213261, 769469,      0, 320139, 176829,\n",
                            "       276836, 443974,      0, 207283,      0, 566353,      0,      0,\n",
                            "       955110, 540822, 492879, 569685, 787038,      0, 268160, 584879,\n",
                            "       225884,  28247,  29300, 472281,      0, 538556, 353951, 279329,\n",
                            "       724064, 747139, 437315,      0, 521588, 241584,      0, 842646,\n",
                            "       983732,      0,  53984, 307918, 269712, 125151,      0, 990067,\n",
                            "       138767, 653663,      0,      0, 485754,      0, 693519,  18986,\n",
                            "       591146, 134312,  17666, 305804, 139633, 293998, 855937, 633776,\n",
                            "            0,      0, 799824,  35535, 380713, 843688,      0, 918910,\n",
                            "       826654, 606661, 652972, 494570, 461551, 278109,  29538, 899498,\n",
                            "       206664, 496234, 904684, 144182, 477525, 163338, 189064, 219020,\n",
                            "       628094, 929414,      0, 620270, 650914, 124176, 922710, 223126,\n",
                            "       223969, 127409, 552707,      0, 258618, 774598,  55015, 777838,\n",
                            "            0, 636347, 190340, 115687, 879371,      0, 740716, 110878,\n",
                            "       732270, 978548,      0, 778290, 779684,      0, 978324, 329767,\n",
                            "       866882, 884858, 384989, 420515,  48585, 376369,  69044, 965061,\n",
                            "       447296, 114556, 531981, 886691,      0, 205235,      0, 971429,\n",
                            "       965445,      0, 547335,      0,  80766,      0, 420192, 573550,\n",
                            "       392261, 815208, 690440, 657664, 989346, 459589, 142848, 622075,\n",
                            "            0, 584304, 407690, 504046,      0,      0, 665890,      0,\n",
                            "            0, 795180, 233576, 542833, 919091, 988703, 170838,      0,\n",
                            "            0,      0,      0, 123451, 452600,      0, 444792,  44353,\n",
                            "       198075, 219283, 319877,  70318, 770313,      0, 421880, 596460,\n",
                            "       745976,      0,  98264,      0, 818168, 230281, 642147, 903613,\n",
                            "            0, 357228, 436839, 274536, 322824,      0, 182789, 518153,\n",
                            "            0, 842291,      0, 240167, 686669, 485671, 724094,  75467,\n",
                            "       188734, 627794, 114751, 386050,      0, 816774,      0,      0,\n",
                            "       373452, 974587,      0, 988237, 618333, 563986, 115078, 872055,\n",
                            "        27671,      0, 360528, 964611, 615490,  56663,  20708,      0,\n",
                            "       316955,      0,      0,      0, 994586, 915681,      0, 756102,\n",
                            "       767002, 147483, 663271,      0, 219835, 406896,  89896, 482095,\n",
                            "        76295, 748974, 892121, 278255,      0, 662162,  13155, 471872,\n",
                            "       830816, 379705,      0,      0, 615269,      0, 559594, 152718,\n",
                            "       313987, 650263,      0, 112512, 152443, 475587,      0, 662409,\n",
                            "            0, 370871,      0, 812364, 122796,      0,      0,      0,\n",
                            "            0, 274544, 385002,      0, 544439, 973911,      0, 533787,\n",
                            "            0,      0, 393215, 326184, 803615, 427515, 673234, 383480,\n",
                            "        37711, 796971, 506157, 189423, 983771, 521349,      0, 917495,\n",
                            "            0, 829792, 742378, 138272,      0, 991001, 707335, 812789,\n",
                            "       648409,  82505,   7869, 786474, 459351, 317252, 641584,      0,\n",
                            "        95272,  43467, 814760, 882844, 485047, 664347,  63871,      0,\n",
                            "       133391,      0, 615704, 861703, 835496, 261687, 730451, 112450,\n",
                            "            0, 443741, 286974,      0,      0, 121381, 478125, 576621,\n",
                            "       139508,      0, 867645, 404111, 155810, 297890, 578665, 970908,\n",
                            "       845477,      0, 962294, 374599, 665960, 755020, 884611, 176836,\n",
                            "       734903,  50714,      0, 632234,      0, 635271, 471960, 716851,\n",
                            "       129123, 941093,      0,  87989,      0,      0, 183274, 692995,\n",
                            "       330352,      0, 416927, 794852, 888184, 136373,      0,      0,\n",
                            "            0, 976744, 653307,      0,      0, 382812, 273246, 710696,\n",
                            "       123015,      0, 259079,      0, 694944, 693105, 518758, 945597,\n",
                            "       988609, 370890, 450101,  41631, 771577,  77991,   9014,      0,\n",
                            "            0, 827209,  61958,  87074,      0,      0, 181089, 202392,\n",
                            "       163823, 635152, 398002, 738429, 503863, 372654,      0, 535089,\n",
                            "       155262, 447905, 240362, 449209,      0, 802079, 669076, 224963,\n",
                            "            0, 253710, 225984, 902059, 861748, 787355, 269512,      0,\n",
                            "       273799, 242549, 599319,      0, 489299,      0, 453982, 129046,\n",
                            "       411619,  37097, 671326, 654150,      0,      0,  98848,  57921,\n",
                            "       710086, 655429, 710660, 289821,  60609,      0, 979165,  36024,\n",
                            "        75313, 394957, 189078, 362429, 937842, 466243, 118632,      0,\n",
                            "       256451,   8051, 709107, 381836,      0,      0, 726772, 194407,\n",
                            "       454395, 954597, 467894, 216810, 962238, 732975,  78523, 765463,\n",
                            "            0, 238841, 808451,      0, 227866,      0, 603135,      0,\n",
                            "       739994,      0, 632769,      0, 555233, 882284,  37217,      0,\n",
                            "       273093, 188062, 399366, 749840, 105235,  79740,      0, 858049,\n",
                            "       755201, 808328, 922230, 182247, 668165, 534525,  25056, 181615,\n",
                            "            0,      0, 378632, 139415, 411716, 451438, 558663, 670022,\n",
                            "       546252,      0,      0, 719998,      0, 745427, 517153,      0,\n",
                            "       860474, 149356, 208861,      0, 459605,  14435,      0,      0,\n",
                            "       870264, 580581,  83781, 196475, 165196, 231507, 311063,      0,\n",
                            "            0,      0, 126172, 361902, 489963,      0, 323717,  64101,\n",
                            "            0, 293790, 895617, 552337, 739965,      0, 888811, 597673,\n",
                            "            0, 438374, 725777,      0, 377370, 892225, 276967, 196232,\n",
                            "       309119,  14540, 545652, 402827, 556951,  56991, 193751, 371326,\n",
                            "       691337,      0,  54115, 358151, 748583, 196962,      0, 154143,\n",
                            "       719635, 994873, 541226,      0, 358824,   9000, 730948, 892474,\n",
                            "       360754, 256492, 895123, 504522, 496072,  43304, 509999, 336593,\n",
                            "       612274, 156836, 113940,      0, 270517, 672521, 626820, 884090,\n",
                            "            0,      0, 556638, 622296, 885729,      0,      0,      0,\n",
                            "       937809, 342497, 212869,  70953, 848890, 505328, 811790,   8267,\n",
                            "        87745, 881020, 829945, 162164,      0, 136484,      0, 897323,\n",
                            "            0,  65692, 225156, 228992, 521771, 835857, 568044, 548176,\n",
                            "       696095, 838727, 119352, 874474,  90999,      0, 829273,  75640,\n",
                            "       201582, 957415, 981535, 749086, 405573, 430695,  66476, 311955,\n",
                            "       172280, 680510, 600468,      0,      0,      0,      0, 191141,\n",
                            "            0, 639736, 543685, 964059,      0, 923232, 973021, 124180,\n",
                            "        71234,      0,      0,  84459,      0,      0, 471152, 946970,\n",
                            "       959443,      0,      0,  64163,      0,  56934, 725255, 430523,\n",
                            "       845530, 459137,      0, 144407, 878332, 655308, 632083, 225184,\n",
                            "            0, 354652, 766315, 647612, 327710, 202775, 294336, 792494,\n",
                            "       613364,  94780, 157617, 550977, 802606, 355605, 917606, 894465,\n",
                            "       538636, 946218,  43102,  79460,      0,  94930, 536089, 632438,\n",
                            "            0, 184208, 159697,      0, 236915, 732952, 213124, 442477,\n",
                            "       530830, 288821, 182804, 710703,  44081, 723216, 360249, 224930,\n",
                            "       810497, 522313, 219532, 617380, 524332,      0, 294106,  33295,\n",
                            "        18807, 440564, 162504, 243067, 490008, 980358,      0, 697440,\n",
                            "            0, 882699, 522923, 171981, 749699,      0, 957082, 208196,\n",
                            "       253683, 239677,  31790, 648162,      0, 453345,      0, 492462,\n",
                            "       544773, 835914,  91188, 534036,      0,      0, 795141,      0,\n",
                            "        35355, 716131,      0, 411332, 161542, 178416, 310062,      0,\n",
                            "       568586, 506708, 871651,  66629, 333184,      0,      0, 295160,\n",
                            "       553248,      0, 218920, 894765,      0, 381965, 465857, 827827,\n",
                            "       509492, 658983, 420916, 826052, 763574, 133148, 811991,      0,\n",
                            "       360540, 197714, 736899, 288876, 264747, 620650, 428570, 280987,\n",
                            "            0, 863158,  22640,  57528,      0, 264214, 844070, 975240,\n",
                            "            0, 639421,      0, 729226, 155159, 177502, 160576,      0,\n",
                            "       870291, 891089, 933479,  16023,      0, 393043, 291103,  71203,\n",
                            "       910588, 165775,      0, 575715,      0, 328673,      0])"
                        ]
                    },
                    "execution_count": 24,
                    "metadata": {},
                    "output_type": "execute_result"
                }
            ],
            "source": [
                "np.where(mask, users_df['salary'], 0)"
            ]
        },
        {
            "cell_type": "code",
            "execution_count": 25,
            "metadata": {
                "slideshow": {
                    "slide_type": "slide"
                }
            },
            "outputs": [
                {
                    "data": {
                        "text/html": [
                            "<div>\n",
                            "<style scoped>\n",
                            "    .dataframe tbody tr th:only-of-type {\n",
                            "        vertical-align: middle;\n",
                            "    }\n",
                            "\n",
                            "    .dataframe tbody tr th {\n",
                            "        vertical-align: top;\n",
                            "    }\n",
                            "\n",
                            "    .dataframe thead th {\n",
                            "        text-align: right;\n",
                            "    }\n",
                            "</style>\n",
                            "<table border=\"1\" class=\"dataframe\">\n",
                            "  <thead>\n",
                            "    <tr style=\"text-align: right;\">\n",
                            "      <th></th>\n",
                            "      <th>age</th>\n",
                            "      <th>gender</th>\n",
                            "      <th>occupation</th>\n",
                            "      <th>zip_code</th>\n",
                            "      <th>salary</th>\n",
                            "    </tr>\n",
                            "    <tr>\n",
                            "      <th>user_id</th>\n",
                            "      <th></th>\n",
                            "      <th></th>\n",
                            "      <th></th>\n",
                            "      <th></th>\n",
                            "      <th></th>\n",
                            "    </tr>\n",
                            "  </thead>\n",
                            "  <tbody>\n",
                            "    <tr>\n",
                            "      <th>1</th>\n",
                            "      <td>24</td>\n",
                            "      <td>M</td>\n",
                            "      <td>technician</td>\n",
                            "      <td>85711</td>\n",
                            "      <td>126958</td>\n",
                            "    </tr>\n",
                            "    <tr>\n",
                            "      <th>2</th>\n",
                            "      <td>53</td>\n",
                            "      <td>F</td>\n",
                            "      <td>other</td>\n",
                            "      <td>94043</td>\n",
                            "      <td>676155</td>\n",
                            "    </tr>\n",
                            "    <tr>\n",
                            "      <th>3</th>\n",
                            "      <td>23</td>\n",
                            "      <td>M</td>\n",
                            "      <td>writer</td>\n",
                            "      <td>32067</td>\n",
                            "      <td>136932</td>\n",
                            "    </tr>\n",
                            "    <tr>\n",
                            "      <th>4</th>\n",
                            "      <td>24</td>\n",
                            "      <td>M</td>\n",
                            "      <td>technician</td>\n",
                            "      <td>43537</td>\n",
                            "      <td>370838</td>\n",
                            "    </tr>\n",
                            "    <tr>\n",
                            "      <th>5</th>\n",
                            "      <td>33</td>\n",
                            "      <td>F</td>\n",
                            "      <td>other</td>\n",
                            "      <td>15213</td>\n",
                            "      <td>264178</td>\n",
                            "    </tr>\n",
                            "    <tr>\n",
                            "      <th>6</th>\n",
                            "      <td>42</td>\n",
                            "      <td>M</td>\n",
                            "      <td>executive</td>\n",
                            "      <td>98101</td>\n",
                            "      <td>649167</td>\n",
                            "    </tr>\n",
                            "    <tr>\n",
                            "      <th>7</th>\n",
                            "      <td>57</td>\n",
                            "      <td>M</td>\n",
                            "      <td>administrator</td>\n",
                            "      <td>91344</td>\n",
                            "      <td>115268</td>\n",
                            "    </tr>\n",
                            "    <tr>\n",
                            "      <th>8</th>\n",
                            "      <td>36</td>\n",
                            "      <td>M</td>\n",
                            "      <td>administrator</td>\n",
                            "      <td>05201</td>\n",
                            "      <td>737180</td>\n",
                            "    </tr>\n",
                            "    <tr>\n",
                            "      <th>9</th>\n",
                            "      <td>29</td>\n",
                            "      <td>M</td>\n",
                            "      <td>student</td>\n",
                            "      <td>01002</td>\n",
                            "      <td>0</td>\n",
                            "    </tr>\n",
                            "    <tr>\n",
                            "      <th>10</th>\n",
                            "      <td>53</td>\n",
                            "      <td>M</td>\n",
                            "      <td>lawyer</td>\n",
                            "      <td>90703</td>\n",
                            "      <td>142337</td>\n",
                            "    </tr>\n",
                            "  </tbody>\n",
                            "</table>\n",
                            "</div>"
                        ],
                        "text/plain": [
                            "         age gender     occupation zip_code  salary\n",
                            "user_id                                            \n",
                            "1         24      M     technician    85711  126958\n",
                            "2         53      F          other    94043  676155\n",
                            "3         23      M         writer    32067  136932\n",
                            "4         24      M     technician    43537  370838\n",
                            "5         33      F          other    15213  264178\n",
                            "6         42      M      executive    98101  649167\n",
                            "7         57      M  administrator    91344  115268\n",
                            "8         36      M  administrator    05201  737180\n",
                            "9         29      M        student    01002       0\n",
                            "10        53      M         lawyer    90703  142337"
                        ]
                    },
                    "execution_count": 25,
                    "metadata": {},
                    "output_type": "execute_result"
                }
            ],
            "source": [
                "#users_df['salary'] = users_df['salary'].where(mask, 0)\n",
                "# Alternatively\n",
                "users_df['salary'] = np.where(mask, users_df['salary'], 0)\n",
                "users_df.head(10)"
            ]
        },
        {
            "cell_type": "code",
            "execution_count": 26,
            "metadata": {
                "slideshow": {
                    "slide_type": "slide"
                }
            },
            "outputs": [
                {
                    "name": "stdout",
                    "output_type": "stream",
                    "text": [
                        "First 7 rows of the DataFrame:\n",
                        "         age gender     occupation zip_code  salary\n",
                        "user_id                                            \n",
                        "1         24      M     technician    85711  126958\n",
                        "2         53      F          other    94043  676155\n",
                        "3         23      M         writer    32067  136932\n",
                        "4         24      M     technician    43537  370838\n",
                        "5         33      F          other    15213  264178\n",
                        "6         42      M      executive    98101  649167\n",
                        "7         57      M  administrator    91344  115268\n"
                    ]
                }
            ],
            "source": [
                "\"\"\"\n",
                "Use integer slicing (special behavior to select rows)\n",
                "\"\"\"\n",
                "# Note that this integer slicing operator cannot be extended on both axis,\n",
                "# as we did for 2-D numpy arrays. In other words, you cannot use the same\n",
                "# syntax to slice over rows and columns with something like \n",
                "# users2[i_start:i_stop, j_start:j_stop]\n",
                "# In order to use integer slicing on BOTH axis as above, we need to use the .iloc method\n",
                "print(\"First 7 rows of the DataFrame:\\n{}\".format(users_df[:7]))"
            ]
        },
        {
            "cell_type": "code",
            "execution_count": 27,
            "metadata": {
                "slideshow": {
                    "slide_type": "slide"
                }
            },
            "outputs": [
                {
                    "name": "stdout",
                    "output_type": "stream",
                    "text": [
                        "user_id\n",
                        "1    False\n",
                        "2     True\n",
                        "3    False\n",
                        "4    False\n",
                        "5    False\n",
                        "6     True\n",
                        "7    False\n",
                        "Name: salary, dtype: bool\n",
                        "\n",
                        "The list of first 5 users having salary greater than 500k is:\n",
                        "         age gender     occupation zip_code  salary\n",
                        "user_id                                            \n",
                        "2         53      F          other    94043  676155\n",
                        "6         42      M      executive    98101  649167\n",
                        "8         36      M  administrator    05201  737180\n",
                        "11        39      F          other    30329  526430\n",
                        "12        28      F          other    06405  959698\n"
                    ]
                }
            ],
            "source": [
                "\"\"\"\n",
                "Select all the users in the DataFrame whose salary is greater than 500k\n",
                "\"\"\"\n",
                "# This is a boolean mask which returns a Series containing either True or False\n",
                "# corresponding to each entry index of the DataFrame depending on whether that entry\n",
                "# has a salary which is greater than 500k or not.\n",
                "mask = users_df.salary > 500000\n",
                "\n",
                "print(mask.head(7))\n",
                "print()\n",
                "print(\"The list of first 5 users having salary greater than 500k is:\\n{}\"\n",
                "      .format(users_df[mask].head()))"
            ]
        },
        {
            "cell_type": "code",
            "execution_count": 28,
            "metadata": {
                "slideshow": {
                    "slide_type": "slide"
                }
            },
            "outputs": [
                {
                    "name": "stdout",
                    "output_type": "stream",
                    "text": [
                        "user_id\n",
                        "1    False\n",
                        "2     True\n",
                        "3    False\n",
                        "4    False\n",
                        "5    False\n",
                        "6    False\n",
                        "7    False\n",
                        "dtype: bool\n",
                        "\n",
                        "The list of first 5 female users having salary greater than 500k is:\n",
                        "         age gender occupation zip_code  salary\n",
                        "user_id                                        \n",
                        "2         53      F      other    94043  676155\n",
                        "11        39      F      other    30329  526430\n",
                        "12        28      F      other    06405  959698\n",
                        "15        49      F   educator    97301  917756\n",
                        "24        21      F     artist    94533  723315\n"
                    ]
                }
            ],
            "source": [
                "\"\"\"\n",
                "Suppose I want to select only female users whose salary is greater than 500k\n",
                "\"\"\"\n",
                "mask = (users_df.salary > 500000) & (users_df.gender == 'F')\n",
                "print(mask.head(7))\n",
                "print()\n",
                "print(\"The list of first 5 female users having salary greater than 500k is:\\n{}\"\n",
                "      .format(users_df[mask].head()))"
            ]
        },
        {
            "cell_type": "code",
            "execution_count": 39,
            "metadata": {
                "slideshow": {
                    "slide_type": "slide"
                }
            },
            "outputs": [
                {
                    "name": "stdout",
                    "output_type": "stream",
                    "text": [
                        "user_id: 1 and 4 (ROWS); gender, salary, zip_code (COLUMNS):\n",
                        "        gender  salary zip_code\n",
                        "user_id                        \n",
                        "1            M  126958    85711\n",
                        "4            M  370838    43537\n",
                        "\n",
                        "user_id: 1 and 4 (ROWS); 2nd, 5th, 4th (COLUMNS):\n",
                        "        gender  salary zip_code\n",
                        "user_id                        \n",
                        "1            M  126958    85711\n",
                        "4            M  370838    43537\n"
                    ]
                }
            ],
            "source": [
                "\"\"\"\n",
                "Let's use loc and iloc methods to index both axis (i.e., rows and columns)\n",
                "using either index/column labels (loc) or integers (iloc).\n",
                "\"\"\"\n",
                "# Note that in this special case, index (row) labels are integers...\n",
                "# In cases like this, loc falls back to work like .iloc\n",
                "print(\"user_id: 1 and 4 (ROWS); gender, salary, zip_code (COLUMNS):\\n{}\"\n",
                "      .format(users_df.loc[[1, 4], ['gender', 'salary', 'zip_code']]))\n",
                "\n",
                "print()\n",
                "\n",
                "print(\"user_id: 1 and 4 (ROWS); 2nd, 5th, 4th (COLUMNS):\\n{}\"\n",
                "      .format(users_df.iloc[[0, 3], [1, 4, 3]]))\n"
            ]
        },
        {
            "cell_type": "code",
            "execution_count": 30,
            "metadata": {
                "slideshow": {
                    "slide_type": "slide"
                }
            },
            "outputs": [
                {
                    "name": "stdout",
                    "output_type": "stream",
                    "text": [
                        "         age gender     occupation zip_code  salary\n",
                        "user_id                                            \n",
                        "559       69      M      executive    10022  118632\n",
                        "767       70      M       engineer    00000  973021\n",
                        "860       70      F        retired    48322  648162\n",
                        "803       70      M  administrator    78212  157617\n",
                        "481       73      M        retired    37771  123015\n"
                    ]
                }
            ],
            "source": [
                "\"\"\"\n",
                "Suppose we want to sort the DataFrame by age (ascending) and salary (descending)\n",
                "\"\"\"\n",
                "print(users_df.sort_values(by=['age', 'salary'], ascending=[True, False]).tail())"
            ]
        },
        {
            "cell_type": "code",
            "execution_count": 31,
            "metadata": {
                "slideshow": {
                    "slide_type": "slide"
                }
            },
            "outputs": [
                {
                    "name": "stdout",
                    "output_type": "stream",
                    "text": [
                        "         age gender occupation zip_code  salary\n",
                        "user_id                                        \n",
                        "620       18      F     writer    81648  719998\n",
                        "851       18      M      other    29646  522923\n",
                        "507       18      F     writer    28450  398002\n",
                        "925       18      F   salesman    49036  155159\n",
                        "859       18      F      other    06492   31790\n",
                        "747       19      M      other    93612  981535\n",
                        "601       19      F     artist    99687  755201\n",
                        "35        20      F  homemaker    42459  994436\n",
                        "596       20      M     artist    77073  749840\n",
                        "677       20      M      other    99835  748583\n"
                    ]
                }
            ],
            "source": [
                "\"\"\"\n",
                "To make the above more meaningful, let's just consider only when salary is > 0\n",
                "\"\"\"\n",
                "print(users_df[users_df.salary > 0].sort_values(by=['age', 'salary'], \n",
                "                                                ascending=[True, False]).head(10))"
            ]
        },
        {
            "cell_type": "code",
            "execution_count": 32,
            "metadata": {
                "slideshow": {
                    "slide_type": "slide"
                }
            },
            "outputs": [
                {
                    "name": "stdout",
                    "output_type": "stream",
                    "text": [
                        "The average salary across ALL the users is: 369708.87\n",
                        "The average salary across all working users is: 474333.96\n"
                    ]
                }
            ],
            "source": [
                "\"\"\"\n",
                "Suppose we want to see what is the average salary of the users.\n",
                "\"\"\"\n",
                "# Let's first consider ALL the users (also those who have 0 salary)\n",
                "print(\"The average salary across ALL the users is: {:.2f}\"\n",
                "      .format(users_df.salary.mean()))\n",
                "\n",
                "# Let's now filter out from the mean computation any user whose salary is 0\n",
                "print(\"The average salary across all working users is: {:.2f}\"\n",
                "      .format(users_df[users_df.salary > 0].salary.mean()))"
            ]
        },
        {
            "cell_type": "code",
            "execution_count": 33,
            "metadata": {
                "slideshow": {
                    "slide_type": "slide"
                }
            },
            "outputs": [
                {
                    "name": "stdout",
                    "output_type": "stream",
                    "text": [
                        "The median age across ALL the users is: 31.0\n"
                    ]
                }
            ],
            "source": [
                "\"\"\"\n",
                "Let's see what is the median age of the users in our DataFrame.\n",
                "\"\"\"\n",
                "print(\"The median age across ALL the users is: {}\"\n",
                "      .format(users_df.age.median()))"
            ]
        },
        {
            "cell_type": "code",
            "execution_count": 34,
            "metadata": {
                "slideshow": {
                    "slide_type": "slide"
                }
            },
            "outputs": [
                {
                    "name": "stdout",
                    "output_type": "stream",
                    "text": [
                        "              age         salary\n",
                        "count  943.000000     943.000000\n",
                        "mean    34.051962  369708.865323\n",
                        "std     12.192740  324238.271411\n",
                        "min      7.000000       0.000000\n",
                        "25%     25.000000   42366.500000\n",
                        "50%     31.000000  310062.000000\n",
                        "75%     43.000000  653225.000000\n",
                        "max     73.000000  994873.000000\n"
                    ]
                }
            ],
            "source": [
                "\"\"\"\n",
                "Let's see what happens if we call 'describe()' on this DataFrame\n",
                "\"\"\"\n",
                "print(users_df.describe()) # Notice, only numeric columns are part of the description!"
            ]
        },
        {
            "cell_type": "code",
            "execution_count": 35,
            "metadata": {
                "slideshow": {
                    "slide_type": "slide"
                }
            },
            "outputs": [
                {
                    "name": "stdout",
                    "output_type": "stream",
                    "text": [
                        "               age gender occupation zip_code         salary\n",
                        "count   943.000000    943        943      943     943.000000\n",
                        "unique         NaN      2         21      795            NaN\n",
                        "top            NaN      M    student    55414            NaN\n",
                        "freq           NaN    670        196        9            NaN\n",
                        "mean     34.051962    NaN        NaN      NaN  369708.865323\n",
                        "std      12.192740    NaN        NaN      NaN  324238.271411\n",
                        "min       7.000000    NaN        NaN      NaN       0.000000\n",
                        "25%      25.000000    NaN        NaN      NaN   42366.500000\n",
                        "50%      31.000000    NaN        NaN      NaN  310062.000000\n",
                        "75%      43.000000    NaN        NaN      NaN  653225.000000\n",
                        "max      73.000000    NaN        NaN      NaN  994873.000000\n"
                    ]
                }
            ],
            "source": [
                "# Let's try to include all the columns in the description\n",
                "print(users_df.describe(include = \"all\"))"
            ]
        },
        {
            "cell_type": "code",
            "execution_count": 36,
            "metadata": {
                "slideshow": {
                    "slide_type": "slide"
                }
            },
            "outputs": [
                {
                    "name": "stdout",
                    "output_type": "stream",
                    "text": [
                        "There are 21 unique occupation values, which are as follows:\n",
                        "[Administrator, Artist, Doctor, Educator, Engineer, Entertainment, Executive, Healthcare, Homemaker, Lawyer, Librarian, Marketing, None, Other, Programmer, Retired, Salesman, Scientist, Student, Technician, Writer]\n"
                    ]
                }
            ],
            "source": [
                "\"\"\"\n",
                "Sometimes it is useful to know how the values of a particular attribute (i.e., column)\n",
                "is distributed over the data instances that we have.\n",
                "\"\"\"\n",
                "# Let's first see how many unique occupations are on our dataset (already\n",
                "# saw this above)\n",
                "unique_occupations = users_df.occupation.unique()\n",
                "\n",
                "print(\"There are {} unique occupation values, which are as follows:\\n[{}]\"\n",
                "      .format(unique_occupations.shape[0],\n",
                "              \", \".join([o.title() for o in np.sort(unique_occupations)])))\n"
            ]
        },
        {
            "cell_type": "code",
            "execution_count": 37,
            "metadata": {
                "slideshow": {
                    "slide_type": "slide"
                }
            },
            "outputs": [
                {
                    "name": "stdout",
                    "output_type": "stream",
                    "text": [
                        "Histogram of occupation values:\n",
                        "student          196\n",
                        "other            105\n",
                        "educator          95\n",
                        "administrator     79\n",
                        "engineer          67\n",
                        "programmer        66\n",
                        "librarian         51\n",
                        "writer            45\n",
                        "executive         32\n",
                        "scientist         31\n",
                        "artist            28\n",
                        "technician        27\n",
                        "marketing         26\n",
                        "entertainment     18\n",
                        "healthcare        16\n",
                        "retired           14\n",
                        "lawyer            12\n",
                        "salesman          12\n",
                        "none               9\n",
                        "homemaker          7\n",
                        "doctor             7\n",
                        "Name: occupation, dtype: int64\n"
                    ]
                }
            ],
            "source": [
                "\"\"\"\n",
                "Now let's see how many times each unique value of the 'occupation' column\n",
                "appears across the dataset. In other words, we compute the frequency count (a.k.a. histogram)\n",
                "of the 'occupation' attribute.\n",
                "\"\"\"\n",
                "print(\"Histogram of occupation values:\\n{}\"\n",
                "      .format(pd.value_counts(users_df.occupation, sort=True)))\n"
            ]
        },
        {
            "cell_type": "markdown",
            "metadata": {
                "slideshow": {
                    "slide_type": "slide"
                }
            },
            "source": [
                "## Working with other text formats\n",
                "\n",
                "-  Plain text files, such as <code>**.csv**</code> or <code>**.tsv**</code>, are not the only formats we might need work with.\n",
                "\n",
                "-  Other possible \"text\" formats can be: **JSON** (**J**ava**S**cript **O**bject **N**otation), **XML**/**HTML**, etc.\n"
            ]
        }
    ],
    "metadata": {
        "celltoolbar": "Slideshow",
        "interpreter": {
            "hash": "916dbcbb3f70747c44a77c7bcd40155683ae19c65e1c03b4aa3499c5328201f1"
        },
        "kernelspec": {
            "display_name": "Python 3.8.10 64-bit",
            "language": "python",
            "name": "python3"
        },
        "language_info": {
            "codemirror_mode": {
                "name": "ipython",
                "version": 3
            },
            "file_extension": ".py",
            "mimetype": "text/x-python",
            "name": "python",
            "nbconvert_exporter": "python",
            "pygments_lexer": "ipython3",
            "version": "3.8.10"
        }
    },
    "nbformat": 4,
    "nbformat_minor": 4
}
